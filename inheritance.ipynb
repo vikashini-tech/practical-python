{
 "cells": [
  {
   "cell_type": "code",
   "execution_count": 1,
   "id": "d9faef8a-4a96-4ab4-8a48-22582f8f5f93",
   "metadata": {},
   "outputs": [
    {
     "name": "stdout",
     "output_type": "stream",
     "text": [
      "Comet:800000\n",
      "Comet:800000:250\n"
     ]
    }
   ],
   "source": [
    "#Single inheritance\n",
    "class car:\n",
    "    def _init_(self,car_model,price):\n",
    "        self.car_model=car_model\n",
    "        self.price=price\n",
    "    def show(self):\n",
    "        print(f\"{self.car_model}:{self.price}\")\n",
    "class electriccar(car):\n",
    "    def __init__(self,car_model,price,bat_capacity):\n",
    "        super()._init_(car_model,price)\n",
    "        self.bat_capacity=bat_capacity \n",
    "    def display(self):\n",
    "        print(f\"{self.car_model}:{self.price}:{self.bat_capacity}\")\n",
    "vehicle=electriccar(\"Comet\",800000,250)\n",
    "vehicle.show()\n",
    "vehicle.display()"
   ]
  },
  {
   "cell_type": "code",
   "execution_count": 2,
   "id": "033a2670-dfb4-431d-ab6c-7269f822c8d6",
   "metadata": {},
   "outputs": [
    {
     "name": "stdout",
     "output_type": "stream",
     "text": [
      "Title of the book: Can we be strangers again\n",
      "Price of the book: 300\n",
      "Author of the book: Shrijeet Shandilya\n",
      "No of copies: 7\n"
     ]
    }
   ],
   "source": [
    "#Multiple inheritance\n",
    "class book:\n",
    "    def __init__(self,title,price):\n",
    "        self.title=title\n",
    "        self.price=price\n",
    "    def show(self):\n",
    "        print(\"Title of the book:\",self.title)\n",
    "        print(\"Price of the book:\",self.price)\n",
    "class author:\n",
    "    def __init__(self,author_name):\n",
    "        self.author_name=author_name\n",
    "    def show_author_name(self):\n",
    "        print(\"Author of the book:\",self.author_name)\n",
    "class library(book,author):\n",
    "    def __init__(self,title, price, author_name,copies):\n",
    "        book.__init__(self,title,price)\n",
    "        author.__init__(self,author_name)\n",
    "        self.copies=copies\n",
    "    def display(self):\n",
    "        print(\"No of copies:\",self.copies)\n",
    "b=library(\"Can we be strangers again\", 300,\"Shrijeet Shandilya\", 7)\n",
    "b.show()\n",
    "b.show_author_name()\n",
    "b.display()"
   ]
  },
  {
   "cell_type": "code",
   "execution_count": 3,
   "id": "4a820fb0-cf8a-42c9-af50-eb9a68323273",
   "metadata": {},
   "outputs": [
    {
     "name": "stdout",
     "output_type": "stream",
     "text": [
      "Area of rectangle: 30\n",
      "Area of square: 36\n",
      "Area of triangle: 10.0\n"
     ]
    }
   ],
   "source": [
    "#Hierarchical inheritance\n",
    "class shape:\n",
    "    def area(self):\n",
    "        pass\n",
    "class rectangle(shape):\n",
    "    def __init__(self, length, breadth):\n",
    "        self.length=length\n",
    "        self.breadth=breadth\n",
    "    def area(self):\n",
    "        r=self.length*self.breadth\n",
    "        print(\"Area of rectangle:\",r)\n",
    "class square(shape):\n",
    "    def __init__(self, side):\n",
    "        self.side=side\n",
    "    def area1(self):\n",
    "        s=self.side*self.side\n",
    "        print(\"Area of square:\",s)\n",
    "class triangle(shape):\n",
    "    def __init__(self, base, height):\n",
    "        self.base=base\n",
    "        self.height=height\n",
    "    def area2(self):\n",
    "        t=0.5*self.base*self.height\n",
    "        print(\"Area of triangle:\",t)\n",
    "rectangle=rectangle(5,6)\n",
    "square=square(6)\n",
    "triangle=triangle(4,5)\n",
    "rectangle.area()\n",
    "square.area1()\n",
    "triangle.area2()"
   ]
  },
  {
   "cell_type": "code",
   "execution_count": null,
   "id": "8d92bf42-4e16-4760-a8ac-cb70ca832d11",
   "metadata": {},
   "outputs": [],
   "source": []
  }
 ],
 "metadata": {
  "kernelspec": {
   "display_name": "Python 3 (ipykernel)",
   "language": "python",
   "name": "python3"
  },
  "language_info": {
   "codemirror_mode": {
    "name": "ipython",
    "version": 3
   },
   "file_extension": ".py",
   "mimetype": "text/x-python",
   "name": "python",
   "nbconvert_exporter": "python",
   "pygments_lexer": "ipython3",
   "version": "3.13.7"
  }
 },
 "nbformat": 4,
 "nbformat_minor": 5
}
