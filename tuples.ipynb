{
 "cells": [
  {
   "cell_type": "code",
   "execution_count": 1,
   "id": "a2759024-edfd-4108-bc3c-6738dce2e77f",
   "metadata": {},
   "outputs": [
    {
     "name": "stdout",
     "output_type": "stream",
     "text": [
      "(4, 5, 6, 7, 8, 9)\n"
     ]
    }
   ],
   "source": [
    "#Creating a tuple\n",
    "a=(4,5,6,7,8,9)\n",
    "print(a)"
   ]
  },
  {
   "cell_type": "code",
   "execution_count": 2,
   "id": "b7c7a54e-5509-40d0-8af3-00aa5f6f8b5e",
   "metadata": {},
   "outputs": [
    {
     "name": "stdout",
     "output_type": "stream",
     "text": [
      "(4, 9, 6, 7)\n"
     ]
    }
   ],
   "source": [
    "#To change element in tuple\n",
    "a=(4,5,6,7)\n",
    "a=a[:1]+(9,)+a[2:]\n",
    "print(a)"
   ]
  },
  {
   "cell_type": "code",
   "execution_count": 3,
   "id": "51153352-2028-4a53-bcf4-419db6aeb157",
   "metadata": {},
   "outputs": [
    {
     "name": "stdout",
     "output_type": "stream",
     "text": [
      "8 7\n"
     ]
    }
   ],
   "source": [
    "#Swapping of two numbers\n",
    "x=7\n",
    "y=8\n",
    "x,y=y,x\n",
    "print(x,y)"
   ]
  },
  {
   "cell_type": "code",
   "execution_count": 4,
   "id": "d925f1ef-a7f9-4976-98bf-7704cc5eb54b",
   "metadata": {},
   "outputs": [
    {
     "name": "stdout",
     "output_type": "stream",
     "text": [
      "[('Ram', 20), ('Karthik', 18), ('Arjun', 19)]\n",
      "[('Karthik', 18), ('Arjun', 19), ('Ram', 20)]\n",
      "[('Arjun', 19), ('Karthik', 18), ('Ram', 20)]\n"
     ]
    }
   ],
   "source": [
    "#List of tuples\n",
    "student=[(\"Ram\",20),(\"Karthik\",18),(\"Arjun\",19)]\n",
    "print(student)\n",
    "sort=sorted(student,key=lambda x:x[1])\n",
    "print(sort)\n",
    "sort1=sorted(student,key=lambda x:x[0])\n",
    "print(sort1)"
   ]
  },
  {
   "cell_type": "code",
   "execution_count": 5,
   "id": "358989b2-faf2-4a1d-874e-bd96204f3ee1",
   "metadata": {},
   "outputs": [
    {
     "name": "stdout",
     "output_type": "stream",
     "text": [
      "(8, 7, 6, 4, 2)\n",
      "(2, 6, 8)\n",
      "(2, 4, 6, 7, 8)\n",
      "(2, 4, 6, 7, 8)\n",
      "(2, 6, 8)\n"
     ]
    }
   ],
   "source": [
    "#Tuple slicing\n",
    "a=(2,4,6,7,8)\n",
    "print(a[::-1])\n",
    "print(a[0::2])\n",
    "print(a[-5:])\n",
    "print(a[0:])\n",
    "print(a[::2])"
   ]
  },
  {
   "cell_type": "code",
   "execution_count": 6,
   "id": "57a65536-c228-48c3-a813-6401c7059869",
   "metadata": {},
   "outputs": [
    {
     "name": "stdout",
     "output_type": "stream",
     "text": [
      "3\n"
     ]
    }
   ],
   "source": [
    "#Count the no.of elements in the tuple\n",
    "t=(1,2,3,4,5,6,7,8,2,2)\n",
    "c=t.count(2)\n",
    "print(c)"
   ]
  },
  {
   "cell_type": "code",
   "execution_count": 7,
   "id": "3d968a01-f5af-4bd2-a656-a6388cc2a321",
   "metadata": {},
   "outputs": [
    {
     "name": "stdout",
     "output_type": "stream",
     "text": [
      "Football\n",
      "Cricket\n",
      "Volleyball\n",
      "Throwball\n",
      "Football\n",
      "Cricket\n",
      "Volleyball\n",
      "Throwball\n"
     ]
    }
   ],
   "source": [
    "#For loop in tuple\n",
    "sports=(\"Football\",\"Cricket\",\"Volleyball\",\"Throwball\")\n",
    "for i in sports:\n",
    "    print(i)\n",
    "for i in range(len(sports)):\n",
    "    print(sports[i])"
   ]
  },
  {
   "cell_type": "code",
   "execution_count": 9,
   "id": "80e08c3e-6410-44fd-aad8-825b3735b535",
   "metadata": {},
   "outputs": [
    {
     "name": "stdout",
     "output_type": "stream",
     "text": [
      "162 vikas 18\n"
     ]
    }
   ],
   "source": [
    "#Tuple unpacking\n",
    "data=(162,\"vikas\",18)\n",
    "rollno,name,age=data\n",
    "print(rollno,name,age)"
   ]
  },
  {
   "cell_type": "code",
   "execution_count": 10,
   "id": "0a34fa3a-c286-402f-bb1d-e5f1dd313f49",
   "metadata": {},
   "outputs": [
    {
     "name": "stdout",
     "output_type": "stream",
     "text": [
      "[1, 2, 3] [4, 5, 6]\n",
      "[4, 5, 6] (1, 2, 3)\n"
     ]
    }
   ],
   "source": [
    "#List and Tuple Datatype transformation\n",
    "l=[1,2,3]\n",
    "t=[4,5,6]\n",
    "print(l,t)\n",
    "print(list(t),tuple(l))"
   ]
  },
  {
   "cell_type": "code",
   "execution_count": null,
   "id": "76c26af1-7689-4280-8f12-e2ade9450d7d",
   "metadata": {},
   "outputs": [],
   "source": []
  }
 ],
 "metadata": {
  "kernelspec": {
   "display_name": "Python 3 (ipykernel)",
   "language": "python",
   "name": "python3"
  },
  "language_info": {
   "codemirror_mode": {
    "name": "ipython",
    "version": 3
   },
   "file_extension": ".py",
   "mimetype": "text/x-python",
   "name": "python",
   "nbconvert_exporter": "python",
   "pygments_lexer": "ipython3",
   "version": "3.13.7"
  }
 },
 "nbformat": 4,
 "nbformat_minor": 5
}
