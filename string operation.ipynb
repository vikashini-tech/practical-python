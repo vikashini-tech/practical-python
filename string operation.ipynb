{
 "cells": [
  {
   "cell_type": "code",
   "execution_count": 1,
   "id": "09acf7b1-1816-4e20-b4ef-9061bfbc3f8d",
   "metadata": {},
   "outputs": [
    {
     "name": "stdout",
     "output_type": "stream",
     "text": [
      "vikas\n",
      "vikas\n",
      "PHP is a server scripting language, and a powerful tool for making dynamic and interactive Web pages\n",
      "PHP is a widely-used, free, and efficient alternative to competitors such as Microsoft's ASP\n"
     ]
    }
   ],
   "source": [
    "#Basic syntax of string operations in python\n",
    "a=\"vikas\"\n",
    "b=\"vikas\"\n",
    "c=\"\"\"PHP is a server scripting language, and a powerful tool for making dynamic and interactive Web pages\"\"\"\n",
    "d='''PHP is a widely-used, free, and efficient alternative to competitors such as Microsoft's ASP'''\n",
    "print(a)\n",
    "print(b)\n",
    "print(c)\n",
    "print(d)"
   ]
  },
  {
   "cell_type": "code",
   "execution_count": 2,
   "id": "8c271d19-ed63-487a-9b16-72b30972b54c",
   "metadata": {},
   "outputs": [
    {
     "name": "stdout",
     "output_type": "stream",
     "text": [
      "y\n",
      "yt\n",
      "yth\n",
      "ytho\n",
      "ython\n",
      "ython \n",
      "ython p\n"
     ]
    }
   ],
   "source": [
    "#String slicing01\n",
    "x=\"Python programming\"\n",
    "print(x[1:2])\n",
    "print(x[1:3])\n",
    "print(x[1:4])\n",
    "print(x[1:5])\n",
    "print(x[1:6])\n",
    "print(x[1:7])\n",
    "print(x[1:8])"
   ]
  },
  {
   "cell_type": "code",
   "execution_count": 3,
   "id": "8c6830bd-c517-4874-abce-6c6bc1edce5f",
   "metadata": {},
   "outputs": [
    {
     "name": "stdout",
     "output_type": "stream",
     "text": [
      "ython programming\n",
      "Python programming\n",
      "Python\n",
      "g\n",
      "g\n"
     ]
    }
   ],
   "source": [
    "#String slicing02\n",
    "x=\"Python programming\"\n",
    "print(x[1:])\n",
    "print(x[0:])\n",
    "print(x[:6])\n",
    "print(x[-1])\n",
    "print(x[-1:])\n"
   ]
  },
  {
   "cell_type": "code",
   "execution_count": 4,
   "id": "441e46d1-ab98-467d-a834-e3e465882c68",
   "metadata": {},
   "outputs": [
    {
     "name": "stdout",
     "output_type": "stream",
     "text": [
      "amming\n",
      "agr o\n"
     ]
    }
   ],
   "source": [
    "#String slicing03\n",
    "x=\"Python programming\"\n",
    "print(x[-6:])\n",
    "print(x[-6:2:-2])"
   ]
  },
  {
   "cell_type": "code",
   "execution_count": 5,
   "id": "cac20541-08aa-4cd9-9513-14475e3c7004",
   "metadata": {},
   "outputs": [
    {
     "name": "stdout",
     "output_type": "stream",
     "text": [
      "agr otP\n",
      "tg\n"
     ]
    }
   ],
   "source": [
    "#String slicing04\n",
    "x=\"Python programming\"\n",
    "print(x[-6::-2])\n",
    "print(x[2::8])"
   ]
  },
  {
   "cell_type": "code",
   "execution_count": 6,
   "id": "93a28c95-e2a1-42d7-9773-3b4108afd715",
   "metadata": {},
   "outputs": [
    {
     "name": "stdout",
     "output_type": "stream",
     "text": [
      "Kih\n",
      "Kih\n"
     ]
    }
   ],
   "source": [
    "#String slicing05\n",
    "y=\"Krishna\"\n",
    "print(y[-7:-2:2])\n",
    "print(y[0:5:2])"
   ]
  },
  {
   "cell_type": "code",
   "execution_count": 7,
   "id": "d2cca661-e2d3-48a1-92b1-a14c940696ce",
   "metadata": {},
   "outputs": [
    {
     "name": "stdout",
     "output_type": "stream",
     "text": [
      "Krishna\n",
      "Krishna\n",
      "Krishna\n",
      "Krishna\n",
      "Krishna\n"
     ]
    }
   ],
   "source": [
    "#String slicing06\n",
    "y=\"Krishna\"\n",
    "print(y[::1])\n",
    "print(y[0:])\n",
    "print(y[::])\n",
    "print(y[:])\n",
    "print(y[-7:])"
   ]
  },
  {
   "cell_type": "code",
   "execution_count": 8,
   "id": "2f867ac9-9530-4436-8c47-bc2288c2d188",
   "metadata": {},
   "outputs": [
    {
     "name": "stdout",
     "output_type": "stream",
     "text": [
      "r\n",
      "Krish\n",
      "Kiha\n",
      "anhsirK\n",
      "a\n",
      "a\n"
     ]
    }
   ],
   "source": [
    "#String slicing07\n",
    "y=\"Krishna\"\n",
    "print(y[1])\n",
    "print(y[0:5])\n",
    "print(y[::2])\n",
    "print(y[::-1])\n",
    "print(y[::-7])\n",
    "print(y[-1:])"
   ]
  },
  {
   "cell_type": "code",
   "execution_count": 9,
   "id": "79a7ee22-3bc4-4241-8e96-8492e9c9f594",
   "metadata": {},
   "outputs": [
    {
     "name": "stdout",
     "output_type": "stream",
     "text": [
      "rishn\n",
      "rishn\n"
     ]
    }
   ],
   "source": [
    "#String slicing08\n",
    "y=\"Krishna\"\n",
    "print(y[1:6])\n",
    "print(y[-6:-1])"
   ]
  },
  {
   "cell_type": "code",
   "execution_count": 10,
   "id": "ceb8cffa-82ba-4075-86d5-d097f7171bd0",
   "metadata": {},
   "outputs": [
    {
     "name": "stdout",
     "output_type": "stream",
     "text": [
      "hna\n",
      "hna\n",
      "Kris\n"
     ]
    }
   ],
   "source": [
    "#String slicing09\n",
    "y=\"Krishna\"\n",
    "print(y[4:])\n",
    "print(y[-3:])\n",
    "print(y[:-3])"
   ]
  },
  {
   "cell_type": "code",
   "execution_count": 12,
   "id": "4bb87328-2243-4784-af66-26228e6a9cd2",
   "metadata": {},
   "outputs": [
    {
     "name": "stdout",
     "output_type": "stream",
     "text": [
      "Kiha\n",
      "Ksa\n"
     ]
    }
   ],
   "source": [
    "#String slicing10\n",
    "y=\"Krishna\"\n",
    "print(y[::2])\n",
    "print(y[::3])"
   ]
  },
  {
   "cell_type": "code",
   "execution_count": 13,
   "id": "990afeb2-14f8-4050-94cd-b6803abdf031",
   "metadata": {},
   "outputs": [
    {
     "name": "stdout",
     "output_type": "stream",
     "text": [
      "P\n",
      "y\n",
      "t\n",
      "h\n",
      "o\n",
      "n\n"
     ]
    }
   ],
   "source": [
    "#looping in string\n",
    "for i in \"Python\":\n",
    "    print(i)"
   ]
  },
  {
   "cell_type": "code",
   "execution_count": 14,
   "id": "f948ebdb-d52b-4564-ac8b-b00522a2ada0",
   "metadata": {},
   "outputs": [
    {
     "name": "stdout",
     "output_type": "stream",
     "text": [
      "7\n"
     ]
    }
   ],
   "source": [
    "#String method\n",
    "z=\"Krishna\"\n",
    "print(len(z))"
   ]
  },
  {
   "cell_type": "code",
   "execution_count": 15,
   "id": "31bcb029-e285-4272-ac7d-9df9178550c0",
   "metadata": {},
   "outputs": [
    {
     "name": "stdin",
     "output_type": "stream",
     "text": [
      "Enter the string: vikas\n"
     ]
    },
    {
     "name": "stdout",
     "output_type": "stream",
     "text": [
      "2\n"
     ]
    }
   ],
   "source": [
    "#To check the vowels\n",
    "st1=input(\"Enter the string:\")\n",
    "a=0\n",
    "for i in st1:\n",
    "    if i in \"aeiouAEIOU\":\n",
    "        a=a+1\n",
    "print(a)\n"
   ]
  },
  {
   "cell_type": "code",
   "execution_count": 16,
   "id": "3f9562c6-f43f-4649-bcc9-2ff77d26ccd2",
   "metadata": {},
   "outputs": [
    {
     "name": "stdout",
     "output_type": "stream",
     "text": [
      "ARTIFICIAL INTELLIGENCE AND MACHINE LEARNING\n",
      "artificial intelligence and machine learning\n",
      "28\n",
      "Artificial Foundation and Machine Learning\n"
     ]
    }
   ],
   "source": [
    "#String methods\n",
    "s=\"Artificial Intelligence and Machine Learning\"\n",
    "print(s.upper())\n",
    "print(s.lower())\n",
    "print(s.find(\"Machine\"))\n",
    "print(s.replace(\"Intelligence\",\"Foundation\"))"
   ]
  },
  {
   "cell_type": "code",
   "execution_count": 17,
   "id": "07e8b83b-ceb2-48f4-9d11-6a8d730a1ddf",
   "metadata": {},
   "outputs": [
    {
     "name": "stdout",
     "output_type": "stream",
     "text": [
      "HelloStudents\n",
      "HelloHello\n"
     ]
    }
   ],
   "source": [
    "#String concatenation and Repetition\n",
    "a=\"Hello\"\n",
    "b=\"Students\"\n",
    "print(a+b)\n",
    "print(a*2)"
   ]
  },
  {
   "cell_type": "code",
   "execution_count": 18,
   "id": "ed4425b2-2a0d-4947-b799-4d517539afaf",
   "metadata": {},
   "outputs": [
    {
     "name": "stdout",
     "output_type": "stream",
     "text": [
      "0\n",
      "2\n",
      "4\n"
     ]
    }
   ],
   "source": [
    "#Loop with step value using range()\n",
    "for i in range(0,5,2):\n",
    "    print(i)"
   ]
  },
  {
   "cell_type": "code",
   "execution_count": 19,
   "id": "8c16eeaa-195c-439e-a98a-fa290fe3e68d",
   "metadata": {},
   "outputs": [
    {
     "name": "stdin",
     "output_type": "stream",
     "text": [
      "Enter the sentence: pyhon language\n"
     ]
    },
    {
     "name": "stdout",
     "output_type": "stream",
     "text": [
      "No of upper cases: 0\n",
      "No of lower cases: 13\n",
      "No of digits: 0\n"
     ]
    }
   ],
   "source": [
    "#Count no.of uppercase,lowercase and digits in a sentence\n",
    "s=input(\"Enter the sentence:\")\n",
    "u=0\n",
    "l=0\n",
    "d=0\n",
    "for i in s:\n",
    "    if i.isupper():\n",
    "        u=u+1\n",
    "    elif i.islower():\n",
    "        l=l+1\n",
    "    elif i.isdigit():\n",
    "        d=d+1\n",
    "print(\"No of upper cases:\",u)\n",
    "print(\"No of lower cases:\",l)\n",
    "print(\"No of digits:\",d)\n"
   ]
  },
  {
   "cell_type": "code",
   "execution_count": null,
   "id": "3c2b2755-4910-4d7c-a879-b46c18456e05",
   "metadata": {},
   "outputs": [],
   "source": []
  }
 ],
 "metadata": {
  "kernelspec": {
   "display_name": "Python 3 (ipykernel)",
   "language": "python",
   "name": "python3"
  },
  "language_info": {
   "codemirror_mode": {
    "name": "ipython",
    "version": 3
   },
   "file_extension": ".py",
   "mimetype": "text/x-python",
   "name": "python",
   "nbconvert_exporter": "python",
   "pygments_lexer": "ipython3",
   "version": "3.13.7"
  }
 },
 "nbformat": 4,
 "nbformat_minor": 5
}
