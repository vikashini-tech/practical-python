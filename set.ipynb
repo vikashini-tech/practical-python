{
 "cells": [
  {
   "cell_type": "code",
   "execution_count": 1,
   "id": "795d1de5-8f72-469d-acdf-946fbdbd7342",
   "metadata": {},
   "outputs": [
    {
     "name": "stdout",
     "output_type": "stream",
     "text": [
      "{'Red', 'Yellow', 'Green', 'Black'}\n"
     ]
    }
   ],
   "source": [
    "#Creating a set\n",
    "color={\"Red\", \"Green\", \"Yellow\", \"Black\"}\n",
    "print(color)"
   ]
  },
  {
   "cell_type": "code",
   "execution_count": 2,
   "id": "3a3f3fad-1f22-4478-8a75-83672b587d2d",
   "metadata": {},
   "outputs": [
    {
     "name": "stdout",
     "output_type": "stream",
     "text": [
      "{1, 2, 3}\n"
     ]
    }
   ],
   "source": [
    "#Creating a set using set function\n",
    "n=set((2,1,3,2,1))\n",
    "print(n)"
   ]
  },
  {
   "cell_type": "code",
   "execution_count": 3,
   "id": "f67ac8de-c57d-4643-a478-77a9d2333d0b",
   "metadata": {},
   "outputs": [
    {
     "name": "stdout",
     "output_type": "stream",
     "text": [
      "{1, 2, 3, 4, 5}\n",
      "{1, 2, 3, 4, 5}\n",
      "{3}\n",
      "{1, 2}\n",
      "{4, 5}\n",
      "{1, 2, 4, 5}\n",
      "{1, 2, 4, 5}\n"
     ]
    }
   ],
   "source": [
    "#Basic set operation\n",
    "a={1,2,3}\n",
    "b={3,4,5}\n",
    "print(a.union(b))\n",
    "print(b.union(a))\n",
    "print(a.intersection(b))\n",
    "print(a.difference(b))\n",
    "print(b.difference(a))\n",
    "print(a.symmetric_difference(b))\n",
    "print(b.symmetric_difference(a))"
   ]
  },
  {
   "cell_type": "code",
   "execution_count": 4,
   "id": "7f8e2594-b913-47a9-911a-046dfdc50ea2",
   "metadata": {},
   "outputs": [
    {
     "name": "stdout",
     "output_type": "stream",
     "text": [
      "{'Windows', 'MacOS', 'Linux', 'Unix'}\n"
     ]
    }
   ],
   "source": [
    "#Adding a new element in a set\n",
    "os={\"Windows\", \"Linux\",\"MacOS\"}\n",
    "os.add(\"Unix\")\n",
    "print(os)"
   ]
  },
  {
   "cell_type": "code",
   "execution_count": 5,
   "id": "9146c2b0-1cfd-44b6-a434-610165443230",
   "metadata": {},
   "outputs": [
    {
     "name": "stdout",
     "output_type": "stream",
     "text": [
      "Students who are chosen both subjects: {'Jasra', 'lavanya'}\n",
      "Students who are chosen either maths or cs: {'Anagha', 'Threya', 'Monica', 'dharsh', 'vikas', 'dhanya'}\n",
      "Students who are chosen maths alone: {'Anagha', 'vikas', 'Monica'}\n",
      "Students who are chosen CS alone: {'dhanya', 'Threya', 'dharsh'}\n",
      "{'Anagha', 'Monica', 'vikas', 'threya', 'Jasra', 'lavanya'}\n"
     ]
    }
   ],
   "source": [
    "#Subject chosen\n",
    "maths={\"vikas\",\"lavanya\",\"Jasra\",\"Monica\",\"Anagha\"}\n",
    "cs={\"Threya\",\"lavanya\",\"dhanya\",\"dharsh\",\"Jasra\"}\n",
    "print(\"Students who are chosen both subjects:\",maths.intersection(cs))\n",
    "print(\"Students who are chosen either maths or cs:\",maths.symmetric_difference(cs))\n",
    "print(\"Students who are chosen maths alone:\",maths.difference(cs))\n",
    "print(\"Students who are chosen CS alone:\",cs.difference(maths))\n",
    "maths.add(\"threya\")\n",
    "print(maths)"
   ]
  },
  {
   "cell_type": "code",
   "execution_count": 7,
   "id": "2d95ac68-4c3f-4341-93f2-2edca1a5e072",
   "metadata": {},
   "outputs": [
    {
     "name": "stdout",
     "output_type": "stream",
     "text": [
      "{'Shruthi', 'Anagha', 'Dhanya', 'dharsh', 'vikas', 'Jasra', 'Monica'}\n"
     ]
    }
   ],
   "source": [
    "#Updating a set\n",
    "maths={\"vikas\", \"Shruthi\", \"Jasra\", \"Monica\", \"Anagha\"}\n",
    "m={\"dharsh\", \"Dhanya\"}\n",
    "maths.update(m)\n",
    "print(maths)"
   ]
  },
  {
   "cell_type": "code",
   "execution_count": 8,
   "id": "e8abf3f4-e1b5-47d0-8668-f6280bb89c46",
   "metadata": {},
   "outputs": [
    {
     "name": "stdout",
     "output_type": "stream",
     "text": [
      "{'Shruthi', 'Anagha', 'Ravi', 'Ajay', 'Ashif', 'Ashifa', 'Jasra', 'Monica'}\n"
     ]
    }
   ],
   "source": [
    "#Alternative method for Updating a set \n",
    "maths={\"Ashifa\", \"Shruthi\", \"Jasra\", \"Monica\", \"Anagha\"}\n",
    "maths.update({\"Ravi\",\"Ajay\",\"Ashif\"})\n",
    "print(maths)"
   ]
  },
  {
   "cell_type": "code",
   "execution_count": 9,
   "id": "23ffb7f8-499c-4a99-8e4b-b7eb817fcec6",
   "metadata": {},
   "outputs": [
    {
     "name": "stdout",
     "output_type": "stream",
     "text": [
      "{'Shruthi', 'Anagha', 'Jasra', 'Monica'}\n"
     ]
    }
   ],
   "source": [
    "#Discard function\n",
    "maths={\"Ashifa\", \"Shruthi\", \"Jasra\", \"Monica\", \"Anagha\"}\n",
    "maths.discard(\"Ashifa\")\n",
    "print(maths)"
   ]
  },
  {
   "cell_type": "code",
   "execution_count": 11,
   "id": "f2bb26e9-aa2f-49be-9d7c-3caec0a4f57f",
   "metadata": {},
   "outputs": [
    {
     "name": "stdout",
     "output_type": "stream",
     "text": [
      "{'Anagha', 'vikas', 'Jasra', 'Monica'}\n"
     ]
    }
   ],
   "source": [
    "#Remove function\n",
    "maths={\"vikas\", \"dharsh\", \"Jasra\", \"Monica\", \"Anagha\"}\n",
    "maths.remove(\"dharsh\")\n",
    "print(maths)\n"
   ]
  },
  {
   "cell_type": "code",
   "execution_count": 12,
   "id": "9693931f-153d-42a9-a2ee-d5fbd513a2df",
   "metadata": {},
   "outputs": [
    {
     "name": "stdout",
     "output_type": "stream",
     "text": [
      "{'e', 'n', 'c', 'd', 'a'}\n"
     ]
    }
   ],
   "source": [
    "#Avoiding duplicates\n",
    "s={'a','c','e','d'}\n",
    "s.update('and')\n",
    "print(s)"
   ]
  },
  {
   "cell_type": "code",
   "execution_count": 13,
   "id": "1d96aaea-018a-4193-b29f-d3256da49014",
   "metadata": {},
   "outputs": [
    {
     "name": "stdout",
     "output_type": "stream",
     "text": [
      "set()\n"
     ]
    }
   ],
   "source": [
    "#Clear function\n",
    "s={'a','c','e','d'}\n",
    "s.clear()\n",
    "print(s)"
   ]
  },
  {
   "cell_type": "code",
   "execution_count": null,
   "id": "48056113-8867-44fc-912c-8a4fdb738a27",
   "metadata": {},
   "outputs": [],
   "source": []
  }
 ],
 "metadata": {
  "kernelspec": {
   "display_name": "Python 3 (ipykernel)",
   "language": "python",
   "name": "python3"
  },
  "language_info": {
   "codemirror_mode": {
    "name": "ipython",
    "version": 3
   },
   "file_extension": ".py",
   "mimetype": "text/x-python",
   "name": "python",
   "nbconvert_exporter": "python",
   "pygments_lexer": "ipython3",
   "version": "3.13.7"
  }
 },
 "nbformat": 4,
 "nbformat_minor": 5
}
