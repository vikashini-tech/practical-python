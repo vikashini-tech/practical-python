{
 "cells": [
  {
   "cell_type": "code",
   "execution_count": 1,
   "id": "0b7764de-eb0a-4145-a807-e2298d7e26c8",
   "metadata": {},
   "outputs": [
    {
     "name": "stdout",
     "output_type": "stream",
     "text": [
      "Welcome\n"
     ]
    }
   ],
   "source": [
    "#class and object example 01\n",
    "class student1:\n",
    "    def show(self):\n",
    "        print(\"Welcome\")\n",
    "d=student1()\n",
    "d.show()"
   ]
  },
  {
   "cell_type": "code",
   "execution_count": 2,
   "id": "fbdde62d-14cc-47a2-baf5-04558b0f3501",
   "metadata": {},
   "outputs": [
    {
     "name": "stdout",
     "output_type": "stream",
     "text": [
      "10\n"
     ]
    }
   ],
   "source": [
    "#class and object example 02\n",
    "class sum:\n",
    "    def add(self,a,b):\n",
    "        print(a+b)\n",
    "s=sum()\n",
    "s.add(6,4)"
   ]
  },
  {
   "cell_type": "code",
   "execution_count": 4,
   "id": "a706fb91-aca3-4078-a6f0-15dafccc8d27",
   "metadata": {},
   "outputs": [
    {
     "name": "stdout",
     "output_type": "stream",
     "text": [
      "Name: vikas\n",
      "Grade: 0\n",
      "Name: anagha\n",
      "Grade: A+\n"
     ]
    }
   ],
   "source": [
    "#student details\n",
    "class student:\n",
    "    def __init__(self, name, grade):\n",
    "        self.name=name\n",
    "        self.grade=grade\n",
    "    def display(self):\n",
    "        print(\"Name:\", self.name)\n",
    "        print(\"Grade:\", self.grade)\n",
    "s1=student(\"vikas\",\"0\")\n",
    "s1.display()\n",
    "s2=student(\"anagha\", \"A+\")\n",
    "s2.display()"
   ]
  },
  {
   "cell_type": "code",
   "execution_count": 7,
   "id": "805bfc7d-5116-42aa-8cda-dc85d7653da8",
   "metadata": {},
   "outputs": [
    {
     "name": "stdout",
     "output_type": "stream",
     "text": [
      "Name: vikas\n",
      "Roll Number: 109\n",
      "Marks: [90, 96, 92]\n"
     ]
    },
    {
     "ename": "TypeError",
     "evalue": "sum() takes no arguments",
     "output_type": "error",
     "traceback": [
      "\u001b[31m---------------------------------------------------------------------------\u001b[39m",
      "\u001b[31mTypeError\u001b[39m                                 Traceback (most recent call last)",
      "\u001b[36mCell\u001b[39m\u001b[36m \u001b[39m\u001b[32mIn[7]\u001b[39m\u001b[32m, line 25\u001b[39m\n\u001b[32m     23\u001b[39m s1=student(\u001b[33m\"\u001b[39m\u001b[33mvikas\u001b[39m\u001b[33m\"\u001b[39m, \u001b[32m109\u001b[39m, [\u001b[32m90\u001b[39m,\u001b[32m96\u001b[39m,\u001b[32m92\u001b[39m])\n\u001b[32m     24\u001b[39m s1.display()\n\u001b[32m---> \u001b[39m\u001b[32m25\u001b[39m \u001b[38;5;28mprint\u001b[39m(\u001b[33m\"\u001b[39m\u001b[33mAverage:\u001b[39m\u001b[33m\"\u001b[39m, \u001b[43ms1\u001b[49m\u001b[43m.\u001b[49m\u001b[43maverage\u001b[49m\u001b[43m(\u001b[49m\u001b[43m)\u001b[49m) \n\u001b[32m     26\u001b[39m \u001b[38;5;28mprint\u001b[39m(\u001b[33m\"\u001b[39m\u001b[33mGrade:\u001b[39m\u001b[33m\"\u001b[39m, s1.grade())\n",
      "\u001b[36mCell\u001b[39m\u001b[36m \u001b[39m\u001b[32mIn[7]\u001b[39m\u001b[32m, line 12\u001b[39m, in \u001b[36mstudent.average\u001b[39m\u001b[34m(self)\u001b[39m\n\u001b[32m     11\u001b[39m \u001b[38;5;28;01mdef\u001b[39;00m\u001b[38;5;250m \u001b[39m\u001b[34maverage\u001b[39m (\u001b[38;5;28mself\u001b[39m): \n\u001b[32m---> \u001b[39m\u001b[32m12\u001b[39m     \u001b[38;5;28;01mreturn\u001b[39;00m \u001b[38;5;28;43msum\u001b[39;49m\u001b[43m(\u001b[49m\u001b[38;5;28;43mself\u001b[39;49m\u001b[43m.\u001b[49m\u001b[43mmarks\u001b[49m\u001b[43m)\u001b[49m/\u001b[32m3\u001b[39m\n",
      "\u001b[31mTypeError\u001b[39m: sum() takes no arguments"
     ]
    }
   ],
   "source": [
    "#student grade details\n",
    "class student:\n",
    "    def __init__(self,name, rollno, marks):\n",
    "        self.name=name\n",
    "        self.rollno=rollno\n",
    "        self.marks=marks\n",
    "    def display(self):\n",
    "        print(\"Name:\", self.name) \n",
    "        print(\"Roll Number:\", self.rollno) \n",
    "        print(\"Marks:\", self.marks)\n",
    "    def average (self): \n",
    "        return sum(self.marks)/3\n",
    "    def grade(self):\n",
    "        avg=self.average()\n",
    "        if avg>=90:\n",
    "            return \"A\"\n",
    "        elif avg>=75:\n",
    "            return \"B\"\n",
    "        elif avg>=65:\n",
    "            return \"C\"\n",
    "        else:\n",
    "            return \"D\"\n",
    "s1=student(\"vikas\", 109, [90,96,92])\n",
    "s1.display()\n",
    "print(\"Average:\", s1.average()) \n",
    "print(\"Grade:\", s1.grade())"
   ]
  },
  {
   "cell_type": "code",
   "execution_count": 8,
   "id": "1847dcf7-ba57-4c4e-b73f-df90d52b2b39",
   "metadata": {},
   "outputs": [
    {
     "name": "stdout",
     "output_type": "stream",
     "text": [
      "Deposit: 2000, New Balance: 3000\n",
      "Withdraw: 1000, New Balance: 2000\n",
      "Deposit: 4000, New Balance: 6000\n",
      "Withdraw: 2000, New Balance: 4000\n"
     ]
    }
   ],
   "source": [
    "#bank account details\n",
    "class bank_account:\n",
    "    def __init__(self,account_holder, balance=0):\n",
    "        self.account_holder=account_holder\n",
    "        self.balance=balance\n",
    "    def deposit(self, amount):\n",
    "        self.balance+=amount\n",
    "        print(f\"Deposit: {amount}, New Balance: {self.balance}\")\n",
    "    def withdraw(self, amount):\n",
    "        if self.balance>=amount:\n",
    "            self.balance-=amount\n",
    "            print(f\"Withdraw: {amount}, New Balance: {self.balance}\")\n",
    "        else:\n",
    "            print(\"Insufficient Balance\")\n",
    "account=bank_account(\"Ashifa\", 1000)\n",
    "account.deposit (2000)\n",
    "account.withdraw(1000)\n",
    "account.deposit (4000)\n",
    "account.withdraw (2000)\n"
   ]
  },
  {
   "cell_type": "code",
   "execution_count": 9,
   "id": "036acba9-6c6a-4174-857b-29efb0f3a9a9",
   "metadata": {},
   "outputs": [
    {
     "name": "stdin",
     "output_type": "stream",
     "text": [
      "Enter the name: vikas\n"
     ]
    },
    {
     "name": "stdout",
     "output_type": "stream",
     "text": [
      "Account_holder: vikas\n"
     ]
    },
    {
     "name": "stdin",
     "output_type": "stream",
     "text": [
      "Enter the amount to deposit: 6000\n"
     ]
    },
    {
     "name": "stdout",
     "output_type": "stream",
     "text": [
      "Deposit: 6000, New Balance: 8000\n"
     ]
    },
    {
     "name": "stdin",
     "output_type": "stream",
     "text": [
      "Enter the amount to withdraw: 6555\n"
     ]
    },
    {
     "name": "stdout",
     "output_type": "stream",
     "text": [
      "Withdraw: 6555, New Balance: 1445\n"
     ]
    }
   ],
   "source": [
    "#bank account details with user input\n",
    "class bank_account:\n",
    "    def __init__(self, account_holder, balance=0):\n",
    "        self.account_holder=account_holder\n",
    "        self.balance=balance\n",
    "    def deposit(self,amount):\n",
    "        self.balance+=amount\n",
    "        print(f\"Deposit: {amount}, New Balance: {self.balance}\")\n",
    "    def withdraw(self,amount):\n",
    "        if self.balance>=amount:\n",
    "            self.balance-=amount\n",
    "            print(f\"Withdraw: {amount}, New Balance: {self.balance}\")\n",
    "        else:\n",
    "            print(\"Insufficient Balance\")\n",
    "name=input(\"Enter the name:\")\n",
    "print(\"Account_holder:\", name)\n",
    "account=bank_account(name,2000)\n",
    "deposit=int(input(\"Enter the amount to deposit:\"))\n",
    "account.deposit(deposit)\n",
    "withdraw=int(input(\"Enter the amount to withdraw:\"))\n",
    "account.withdraw(withdraw)"
   ]
  },
  {
   "cell_type": "code",
   "execution_count": null,
   "id": "2090241a-ca58-4169-b601-efe562617267",
   "metadata": {},
   "outputs": [],
   "source": []
  }
 ],
 "metadata": {
  "kernelspec": {
   "display_name": "Python 3 (ipykernel)",
   "language": "python",
   "name": "python3"
  },
  "language_info": {
   "codemirror_mode": {
    "name": "ipython",
    "version": 3
   },
   "file_extension": ".py",
   "mimetype": "text/x-python",
   "name": "python",
   "nbconvert_exporter": "python",
   "pygments_lexer": "ipython3",
   "version": "3.13.7"
  }
 },
 "nbformat": 4,
 "nbformat_minor": 5
}
