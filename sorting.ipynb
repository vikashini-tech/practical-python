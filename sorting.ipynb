{
 "cells": [
  {
   "cell_type": "code",
   "execution_count": 1,
   "id": "435de71d-1c6c-40f7-8e45-161e17eb95f9",
   "metadata": {},
   "outputs": [
    {
     "name": "stdout",
     "output_type": "stream",
     "text": [
      "[1, 2, 3, 4, 6, 8, 9]\n"
     ]
    }
   ],
   "source": [
    "#Sorting numbers in ascending order\n",
    "n=[4,6,1,3,8,9,2]\n",
    "e=list(sorted(n))\n",
    "print(e)"
   ]
  },
  {
   "cell_type": "code",
   "execution_count": 2,
   "id": "4be8276c-36a4-49a9-84b9-39aac3ef8469",
   "metadata": {},
   "outputs": [
    {
     "name": "stdout",
     "output_type": "stream",
     "text": [
      "[9, 8, 6, 4, 3, 2, 1]\n"
     ]
    }
   ],
   "source": [
    "#Sorting numbers in descending order\n",
    "n=[4,6,1,3,8,9,2]\n",
    "e=list(sorted(n,reverse=True))\n",
    "print(e)"
   ]
  },
  {
   "cell_type": "code",
   "execution_count": 3,
   "id": "942b8f37-c5db-4003-8762-b054e9b0f005",
   "metadata": {},
   "outputs": [
    {
     "name": "stdout",
     "output_type": "stream",
     "text": [
      "['Apple', 'Banana', 'Grapes', 'Orange']\n"
     ]
    }
   ],
   "source": [
    "#Sorting strings alphabetically (lexicographic order)\n",
    "a=[\"Apple\",\"Orange\",\"Banana\",\"Grapes\"]\n",
    "e=list(sorted(a))\n",
    "print(e)"
   ]
  },
  {
   "cell_type": "code",
   "execution_count": 4,
   "id": "06519530-706a-4b6f-bdcc-e65239c6d641",
   "metadata": {},
   "outputs": [
    {
     "name": "stdout",
     "output_type": "stream",
     "text": [
      "['Apple', 'Dates', 'Banana', 'Cherry', 'Grapes', 'Jackfruit', 'Watermelon']\n"
     ]
    }
   ],
   "source": [
    "#Sorting strings by length using key=len\n",
    "a=[\"Apple\",\"Banana\",\"Cherry\",\"Dates\",\"Grapes\",\"Jackfruit\",\"Watermelon\"]\n",
    "e=list(sorted(a,key=len))\n",
    "print(e)"
   ]
  },
  {
   "cell_type": "code",
   "execution_count": null,
   "id": "ef2b5d82-afef-40ef-849e-fc155a923e3e",
   "metadata": {},
   "outputs": [],
   "source": []
  }
 ],
 "metadata": {
  "kernelspec": {
   "display_name": "Python 3 (ipykernel)",
   "language": "python",
   "name": "python3"
  },
  "language_info": {
   "codemirror_mode": {
    "name": "ipython",
    "version": 3
   },
   "file_extension": ".py",
   "mimetype": "text/x-python",
   "name": "python",
   "nbconvert_exporter": "python",
   "pygments_lexer": "ipython3",
   "version": "3.13.7"
  }
 },
 "nbformat": 4,
 "nbformat_minor": 5
}
