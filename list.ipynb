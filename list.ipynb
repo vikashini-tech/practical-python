{
 "cells": [
  {
   "cell_type": "code",
   "execution_count": 1,
   "id": "c22ae7fb-aa8e-4475-af91-79ad170542da",
   "metadata": {},
   "outputs": [
    {
     "name": "stdout",
     "output_type": "stream",
     "text": [
      "[2, 4, 6, 8, 10] ['Red', 'blue', 'pink', 'yellow', 'black'] [109, 80.9, 'vikas', True] []\n"
     ]
    }
   ],
   "source": [
    "#Creating a list \n",
    "numbers=[2,4,6,8,10]\n",
    "colors=[\"Red\",\"blue\",\"pink\",\"yellow\",\"black\"]\n",
    "combined_list=[109,80.9,\"vikas\",True]\n",
    "empty_list=[]\n",
    "print(numbers,colors,combined_list,empty_list)"
   ]
  },
  {
   "cell_type": "code",
   "execution_count": 2,
   "id": "b2fd9ee3-e806-4a7b-9591-60bc976c1bbe",
   "metadata": {},
   "outputs": [
    {
     "name": "stdout",
     "output_type": "stream",
     "text": [
      "Red\n",
      "Red\n",
      "black\n",
      "black\n"
     ]
    }
   ],
   "source": [
    "#Accessing list elements\n",
    "colors=[\"Red\",\"blue\",\"pink\",\"yellow\",\"black\"]\n",
    "print(colors[0])\n",
    "print(colors[-5])\n",
    "print(colors[4])\n",
    "print(colors[-1])"
   ]
  },
  {
   "cell_type": "code",
   "execution_count": 3,
   "id": "194218b2-417c-4860-bba2-a1d64952512f",
   "metadata": {},
   "outputs": [
    {
     "name": "stdout",
     "output_type": "stream",
     "text": [
      "['Red', 'Lavender', 'Green', 'yellow', 'black']\n"
     ]
    }
   ],
   "source": [
    "#Modify a list\n",
    "colors=[\"Red\",\"blue\",\"pink\",\"yellow\",\"black\"]\n",
    "colors[1]=\"Lavender\"\n",
    "colors[2]=\"Green\"\n",
    "print(colors)"
   ]
  },
  {
   "cell_type": "code",
   "execution_count": 4,
   "id": "2d4b2863-08e8-4312-af0d-b0b35886f221",
   "metadata": {},
   "outputs": [
    {
     "name": "stdout",
     "output_type": "stream",
     "text": [
      "['Red', 'Orange', 'blue', 'pink', 'yellow', 'black', 'White']\n"
     ]
    }
   ],
   "source": [
    "#Common list operations-01\n",
    "colors=[\"Red\",\"blue\",\"pink\",\"yellow\",\"black\"]\n",
    "colors.append(\"White\")\n",
    "colors.insert(1,\"Orange\")\n",
    "print(colors)"
   ]
  },
  {
   "cell_type": "code",
   "execution_count": 5,
   "id": "d11b58cd-0da1-46f3-8edb-59efa6daf5cb",
   "metadata": {},
   "outputs": [
    {
     "name": "stdout",
     "output_type": "stream",
     "text": [
      "['Red', 'blue', 'pink', 'yellow']\n"
     ]
    }
   ],
   "source": [
    "#Common list operations-02\n",
    "colors=[\"Red\",\"blue\",\"pink\",\"yellow\",\"black\"]\n",
    "colors.pop()\n",
    "print(colors)"
   ]
  },
  {
   "cell_type": "code",
   "execution_count": 6,
   "id": "c830e48e-8b8b-40e8-a297-99d96e6947e6",
   "metadata": {},
   "outputs": [
    {
     "name": "stdout",
     "output_type": "stream",
     "text": [
      "['blue', 'pink', 'yellow', 'black']\n"
     ]
    }
   ],
   "source": [
    "#Common list operations-03\n",
    "colors=[\"Red\",\"blue\",\"pink\",\"yellow\",\"black\"]\n",
    "colors.remove(\"Red\")\n",
    "print(colors)"
   ]
  },
  {
   "cell_type": "code",
   "execution_count": 7,
   "id": "879cab27-eb70-4b1b-8f70-5343ef3eb7bf",
   "metadata": {},
   "outputs": [
    {
     "name": "stdout",
     "output_type": "stream",
     "text": [
      "5\n",
      "4\n"
     ]
    }
   ],
   "source": [
    "#Common list operations-04\n",
    "colors=[\"Red\",\"blue\",\"pink\",\"yellow\",\"black\"]\n",
    "combined_list=[109,80.9,\"Ashifa\",True]\n",
    "print(len(colors))\n",
    "print(len(combined_list))"
   ]
  },
  {
   "cell_type": "code",
   "execution_count": 8,
   "id": "5e4b10d6-2f88-4708-aa6a-a90ef44e8576",
   "metadata": {},
   "outputs": [
    {
     "name": "stdout",
     "output_type": "stream",
     "text": [
      "5\n",
      "98\n",
      "[5, 20, 25, 34, 98]\n",
      "[98, 34, 25, 20, 5]\n"
     ]
    }
   ],
   "source": [
    "#Build-in functions in list\n",
    "a=[5,34,98,20,25]\n",
    "print(min(a))\n",
    "print(max(a))\n",
    "a.sort()\n",
    "print(a)\n",
    "a.reverse()\n",
    "print(a)"
   ]
  },
  {
   "cell_type": "code",
   "execution_count": 9,
   "id": "f3322583-71df-41e7-8073-f4f543a7493a",
   "metadata": {},
   "outputs": [
    {
     "name": "stdout",
     "output_type": "stream",
     "text": [
      "Red\n",
      "blue\n",
      "pink\n",
      "yellow\n",
      "black\n"
     ]
    }
   ],
   "source": [
    "#Looping in list\n",
    "colors=[\"Red\",\"blue\",\"pink\",\"yellow\",\"black\"]\n",
    "for i in colors:\n",
    "    print(i)"
   ]
  },
  {
   "cell_type": "code",
   "execution_count": 10,
   "id": "7874b784-25a4-4d37-a4d2-b2ad8f3ea15a",
   "metadata": {},
   "outputs": [
    {
     "name": "stdout",
     "output_type": "stream",
     "text": [
      "[5, 34]\n",
      "[25, 20, 98, 34, 5]\n"
     ]
    }
   ],
   "source": [
    "#List slicing\n",
    "a=[5,34,98,20,25]\n",
    "print(a[0:2])\n",
    "print(a[::-1])"
   ]
  },
  {
   "cell_type": "code",
   "execution_count": 11,
   "id": "c3ab84f3-4c74-4076-b90b-32e109461a82",
   "metadata": {},
   "outputs": [
    {
     "name": "stdout",
     "output_type": "stream",
     "text": [
      "[1, 4, 9, 16, 25]\n"
     ]
    }
   ],
   "source": [
    "#Square of a number from ranges 1 to 5\n",
    "s=[n**2 for n in range(1,6)]\n",
    "print(s)"
   ]
  },
  {
   "cell_type": "code",
   "execution_count": 12,
   "id": "2c7ad4fd-3bd5-456a-8d2b-aa32013639ca",
   "metadata": {},
   "outputs": [
    {
     "name": "stdout",
     "output_type": "stream",
     "text": [
      "[25, 4, 16, 49, 64]\n"
     ]
    }
   ],
   "source": [
    "#Square of numbers\n",
    "l1=[5,2,4,7,8]\n",
    "s=[n**2 for n in l1]\n",
    "print(s)"
   ]
  },
  {
   "cell_type": "code",
   "execution_count": 13,
   "id": "cbaf1023-a0fb-4b49-baf3-eda285b4b1fa",
   "metadata": {},
   "outputs": [
    {
     "name": "stdout",
     "output_type": "stream",
     "text": [
      "3\n"
     ]
    }
   ],
   "source": [
    "#Count how many numbers are even in the list\n",
    "z=[3,8,9,10,45,22]\n",
    "w=0\n",
    "for n in z:\n",
    "    if n%2==0:\n",
    "        w+=1\n",
    "print(w)"
   ]
  },
  {
   "cell_type": "code",
   "execution_count": 14,
   "id": "3071e228-c80e-492c-a46c-464dacd56d55",
   "metadata": {},
   "outputs": [
    {
     "name": "stdout",
     "output_type": "stream",
     "text": [
      "dharsh\n",
      "dhanya\n",
      "Jasra\n",
      "vikas\n",
      "['dharsh', 'Anagha', 'dhanya', 'Jasra', 'vikas']\n",
      "['dharsh', 'Anagha', 'dhanya', 'Jasra']\n",
      "['Anagha', 'Jasra', 'dhanya', 'dharsh']\n",
      "Anagha\n",
      "Jasra\n",
      "dhanya\n",
      "dharsh\n"
     ]
    },
    {
     "name": "stdin",
     "output_type": "stream",
     "text": [
      "Enter the name: vikas\n"
     ]
    },
    {
     "name": "stdout",
     "output_type": "stream",
     "text": [
      "The name is not present in the list\n"
     ]
    }
   ],
   "source": [
    "#Exercise 1\n",
    "student=[]\n",
    "student.append(\"dharsh\")\n",
    "student.append(\"dhanya\")\n",
    "student.append(\"Jasra\")\n",
    "student.append(\"vikas\")\n",
    "for i in student:\n",
    "    print(i)\n",
    "student.insert(1,\"Anagha\")\n",
    "print(student)\n",
    "student.remove(\"vikas\")\n",
    "print(student)\n",
    "student.sort()\n",
    "print(student)\n",
    "for i in student:\n",
    "    print(i)\n",
    "a=input(\"Enter the name:\")\n",
    "for i in student:\n",
    "    if i==a:\n",
    "        print(\"The name is present in the list\")\n",
    "    else:\n",
    "        print(\"The name is not present in the list\")\n",
    "    break"
   ]
  },
  {
   "cell_type": "code",
   "execution_count": 15,
   "id": "eb55b3dc-65c8-4e6c-aa1b-aee2c343d9e7",
   "metadata": {},
   "outputs": [
    {
     "name": "stdout",
     "output_type": "stream",
     "text": [
      "{2, 5, 6, 9, 10}\n",
      "{'vikas', 'dharsh', 'Anagha'}\n"
     ]
    }
   ],
   "source": [
    "#Removing duplicates from the list\n",
    "x=[2,5,6,9,5,2,10]\n",
    "y=[\"Anagha\",\"vikas\",\"dharsh\",\"vikas\"]\n",
    "print(set(x))\n",
    "print(set(y))\n"
   ]
  },
  {
   "cell_type": "code",
   "execution_count": null,
   "id": "44ef0ce4-c157-403d-9544-3e191df34d27",
   "metadata": {},
   "outputs": [],
   "source": []
  }
 ],
 "metadata": {
  "kernelspec": {
   "display_name": "Python 3 (ipykernel)",
   "language": "python",
   "name": "python3"
  },
  "language_info": {
   "codemirror_mode": {
    "name": "ipython",
    "version": 3
   },
   "file_extension": ".py",
   "mimetype": "text/x-python",
   "name": "python",
   "nbconvert_exporter": "python",
   "pygments_lexer": "ipython3",
   "version": "3.13.7"
  }
 },
 "nbformat": 4,
 "nbformat_minor": 5
}
