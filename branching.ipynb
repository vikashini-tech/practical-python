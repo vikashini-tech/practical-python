{
 "cells": [
  {
   "cell_type": "code",
   "execution_count": 3,
   "id": "874bc465-f1ad-44c8-9b81-ab08d6afbee5",
   "metadata": {},
   "outputs": [
    {
     "name": "stdin",
     "output_type": "stream",
     "text": [
      "enter num 75\n",
      "enter num 25\n",
      "enter num 99\n"
     ]
    },
    {
     "name": "stdout",
     "output_type": "stream",
     "text": [
      "c is greater\n"
     ]
    }
   ],
   "source": [
    "#greatest three number\n",
    "a=input(\"enter num\")\n",
    "b=input(\"enter num\")\n",
    "c=input(\"enter num\")\n",
    "if a>b and a>c:\n",
    "   print(\"a is greater\")\n",
    "elif b>a and b>c:\n",
    "   print(\"b is greater\")\n",
    "else:\n",
    "   print(\"c is greater\")"
   ]
  },
  {
   "cell_type": "code",
   "execution_count": 8,
   "id": "87e61860-0e40-4f19-876f-a3e4725bf6c2",
   "metadata": {},
   "outputs": [
    {
     "name": "stdin",
     "output_type": "stream",
     "text": [
      "enter number 7\n"
     ]
    },
    {
     "name": "stdout",
     "output_type": "stream",
     "text": [
      "odd\n"
     ]
    }
   ],
   "source": [
    "#even or odd\n",
    "n=int(input(\"enter number\"))\n",
    "if n%2==0:\n",
    "   print(\"even\")\n",
    "else:\n",
    "   print(\"odd\")"
   ]
  },
  {
   "cell_type": "code",
   "execution_count": 9,
   "id": "0a721945-0037-43d5-b48c-edd071e9ad84",
   "metadata": {},
   "outputs": [
    {
     "name": "stdin",
     "output_type": "stream",
     "text": [
      "enter year 2024\n"
     ]
    },
    {
     "name": "stdout",
     "output_type": "stream",
     "text": [
      "leap year\n"
     ]
    }
   ],
   "source": [
    "#leap year check\n",
    "year=int(input(\"enter year\"))\n",
    "if year%4==0 and year%100!=0 or year%400==0:\n",
    "    print(\"leap year\")\n",
    "else:\n",
    "    print(\"not leap year\")"
   ]
  },
  {
   "cell_type": "code",
   "execution_count": 13,
   "id": "c94d6d18-493d-41f7-ad96-9ca606030eb4",
   "metadata": {},
   "outputs": [
    {
     "name": "stdin",
     "output_type": "stream",
     "text": [
      "enter name vikas\n",
      "enter rollno 162\n",
      "enter m1 85\n",
      "enter m2 45\n",
      "enter m3 33\n",
      "enter m4 97\n",
      "enter m5 88\n"
     ]
    },
    {
     "name": "stdout",
     "output_type": "stream",
     "text": [
      "total mark 348\n",
      "average 69.6\n",
      "D grade\n"
     ]
    }
   ],
   "source": [
    "# student grade\n",
    "name=input(\"enter name\")\n",
    "rollno=int(input(\"enter rollno\"))\n",
    "m1=int(input(\"enter m1\"))\n",
    "m2=int(input(\"enter m2\"))\n",
    "m3=int(input(\"enter m3\"))\n",
    "m4=int(input(\"enter m4\"))\n",
    "m5=int(input(\"enter m5\"))\n",
    "totalmarks=m1+m2+m3+m4+m5\n",
    "print(\"total mark\",totalmarks)\n",
    "avg=totalmarks/5\n",
    "print(\"average\",avg)\n",
    "if avg>=90 and avg<100:\n",
    "    print(\"A grade\")\n",
    "elif avg>=80 and avg<90:\n",
    "    print(\"B grade\")\n",
    "elif avg>=70 and avg<80:\n",
    "    print(\"C grade\")\n",
    "elif avg>=60 and avg<70:\n",
    "    print(\"D grade\")\n",
    "elif avg>=50 and avg<60:\n",
    "    print(\"E grade\")\n",
    "elif avg>=40 and avg<50:\n",
    "    print(\"just pass\")\n",
    "else:\n",
    "    print(\"fail\")\n",
    "       "
   ]
  },
  {
   "cell_type": "code",
   "execution_count": null,
   "id": "2d5bcd06-812f-41c6-a46e-5ed8bf354a85",
   "metadata": {},
   "outputs": [],
   "source": []
  }
 ],
 "metadata": {
  "kernelspec": {
   "display_name": "Python 3 (ipykernel)",
   "language": "python",
   "name": "python3"
  },
  "language_info": {
   "codemirror_mode": {
    "name": "ipython",
    "version": 3
   },
   "file_extension": ".py",
   "mimetype": "text/x-python",
   "name": "python",
   "nbconvert_exporter": "python",
   "pygments_lexer": "ipython3",
   "version": "3.13.7"
  }
 },
 "nbformat": 4,
 "nbformat_minor": 5
}
