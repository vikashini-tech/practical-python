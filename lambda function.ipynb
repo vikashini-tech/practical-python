{
 "cells": [
  {
   "cell_type": "code",
   "execution_count": 1,
   "id": "7672f784-b9c8-4e17-beeb-82144d56422d",
   "metadata": {},
   "outputs": [
    {
     "name": "stdout",
     "output_type": "stream",
     "text": [
      "9\n"
     ]
    }
   ],
   "source": [
    "#Addition of two numbers\n",
    "add=lambda x,y:x+y\n",
    "print(add(4,5))"
   ]
  },
  {
   "cell_type": "code",
   "execution_count": 2,
   "id": "80dd343a-b24a-42c2-824d-b2bd921e0123",
   "metadata": {},
   "outputs": [
    {
     "name": "stdout",
     "output_type": "stream",
     "text": [
      "25\n"
     ]
    }
   ],
   "source": [
    "#Square of a number\n",
    "square=lambda x:x*x\n",
    "print(square(5))"
   ]
  },
  {
   "cell_type": "code",
   "execution_count": 3,
   "id": "39306508-6366-44aa-bd16-350f39ceb069",
   "metadata": {},
   "outputs": [
    {
     "name": "stdout",
     "output_type": "stream",
     "text": [
      "[16, 36, 64, 81, 4]\n"
     ]
    }
   ],
   "source": [
    "#Using lambda with map()\n",
    "n=[4,6,8,9,2]\n",
    "square=list(map(lambda n:n*n,n))\n",
    "print(square)"
   ]
  },
  {
   "cell_type": "code",
   "execution_count": 4,
   "id": "dbe06fbc-4311-44a2-8f0a-35e1a5f3bd34",
   "metadata": {},
   "outputs": [
    {
     "name": "stdout",
     "output_type": "stream",
     "text": [
      "[4, 6, 8, 2]\n"
     ]
    }
   ],
   "source": [
    "#Using lambda with filter()\n",
    "n=[4,6,1,3,8,9,2]\n",
    "e=list(filter(lambda n:n%2==0,n))\n",
    "print(e)"
   ]
  },
  {
   "cell_type": "code",
   "execution_count": 5,
   "id": "a39154d7-6397-433d-9338-7e1c83d95bb4",
   "metadata": {},
   "outputs": [
    {
     "name": "stdout",
     "output_type": "stream",
     "text": [
      "[True, True, False, False, True, False, True]\n"
     ]
    }
   ],
   "source": [
    "n=[4,6,1,3,8,9,2]\n",
    "e=list(map(lambda n:n%2==0,n))\n",
    "print(e)"
   ]
  },
  {
   "cell_type": "code",
   "execution_count": null,
   "id": "7d77ed8d-858e-4d36-9362-6574d62840b5",
   "metadata": {},
   "outputs": [],
   "source": []
  }
 ],
 "metadata": {
  "kernelspec": {
   "display_name": "Python 3 (ipykernel)",
   "language": "python",
   "name": "python3"
  },
  "language_info": {
   "codemirror_mode": {
    "name": "ipython",
    "version": 3
   },
   "file_extension": ".py",
   "mimetype": "text/x-python",
   "name": "python",
   "nbconvert_exporter": "python",
   "pygments_lexer": "ipython3",
   "version": "3.13.7"
  }
 },
 "nbformat": 4,
 "nbformat_minor": 5
}
