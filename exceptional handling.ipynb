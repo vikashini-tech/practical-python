{
 "cells": [
  {
   "cell_type": "code",
   "execution_count": 2,
   "id": "a97ba205-e21a-4eec-893e-b0372e297e80",
   "metadata": {},
   "outputs": [
    {
     "name": "stdin",
     "output_type": "stream",
     "text": [
      "Enter the number:  77\n"
     ]
    },
    {
     "name": "stdout",
     "output_type": "stream",
     "text": [
      "The number cannot divided by zero\n",
      "All blocks are executed\n"
     ]
    }
   ],
   "source": [
    "#Zero division error\n",
    "try:\n",
    "    a=int(input(\"Enter the number: \"))\n",
    "    b=a/0\n",
    "    print(b)\n",
    "except ZeroDivisionError:\n",
    "    print(\"The number cannot divided by zero\")\n",
    "except ValueError:\n",
    "    print(\"The given input is not valid\")\n",
    "except Exception as e:\n",
    "    print(f\"Common exception {e}\")\n",
    "finally:\n",
    "    print(\"All blocks are executed\")"
   ]
  },
  {
   "cell_type": "code",
   "execution_count": 3,
   "id": "ffdc74aa-64f3-4261-bf71-b0dd53969914",
   "metadata": {},
   "outputs": [
    {
     "name": "stdin",
     "output_type": "stream",
     "text": [
      "Enter the file name: vikas\n"
     ]
    },
    {
     "name": "stdout",
     "output_type": "stream",
     "text": [
      "The text file is not found\n",
      "All blocks are executed\n"
     ]
    }
   ],
   "source": [
    "#File not found exception\n",
    "try:\n",
    "    a=input(\"Enter the file name:\")\n",
    "    with open(a, \"r\") as file:\n",
    "        data=file.read() \n",
    "        print(\"File Content: \\n\") \n",
    "        print(data)\n",
    "except FileNotFoundError:\n",
    "    print(\"The text file is not found\")\n",
    "except Exception as e:\n",
    "    print(f\"Common exception {e}\")\n",
    "finally:\n",
    "    print(\"All blocks are executed\")"
   ]
  },
  {
   "cell_type": "code",
   "execution_count": 4,
   "id": "18ae9ec2-3fb0-412f-b814-5adcd961ac09",
   "metadata": {},
   "outputs": [
    {
     "name": "stdin",
     "output_type": "stream",
     "text": [
      "Enter the age: 18\n"
     ]
    },
    {
     "name": "stdout",
     "output_type": "stream",
     "text": [
      "Age is valid\n"
     ]
    }
   ],
   "source": [
    "#Age Validation\n",
    "def checkage(age):\n",
    "    if age<0:\n",
    "        raise ValueError(\"Age cannot be negative\")\n",
    "    else:\n",
    "        print(\"Age is valid\")\n",
    "try:\n",
    "    age=int(input(\"Enter the age:\"))\n",
    "    checkage(age)\n",
    "except ValueError as e:\n",
    "    print(\"Error:\",e)"
   ]
  },
  {
   "cell_type": "code",
   "execution_count": 5,
   "id": "ae41f8e3-379d-4563-87b1-a1c8982fffe0",
   "metadata": {},
   "outputs": [
    {
     "name": "stdin",
     "output_type": "stream",
     "text": [
      "Enter the index value: 6\n"
     ]
    },
    {
     "name": "stdout",
     "output_type": "stream",
     "text": [
      "The given value is out of the index\n"
     ]
    }
   ],
   "source": [
    "#Index error\n",
    "try:\n",
    "    a=[2,3,4,5]\n",
    "    b=int(input(\"Enter the index value:\"))\n",
    "    print(a[b])\n",
    "except IndexError:\n",
    "    print(\"The given value is out of the index\")"
   ]
  },
  {
   "cell_type": "code",
   "execution_count": 6,
   "id": "38243d6b-2222-454e-9678-2f9957b30b4a",
   "metadata": {},
   "outputs": [
    {
     "name": "stdin",
     "output_type": "stream",
     "text": [
      "Enter the number: 8\n"
     ]
    },
    {
     "name": "stdout",
     "output_type": "stream",
     "text": [
      "8\n"
     ]
    }
   ],
   "source": [
    "#value error\n",
    "try:\n",
    "    a=int(input(\"Enter the number:\"))\n",
    "    print(a)\n",
    "except ValueError:\n",
    "    print(\"Invalid value\")"
   ]
  },
  {
   "cell_type": "code",
   "execution_count": 7,
   "id": "db9b3ada-1aae-424f-8bdd-ebcbbb5622af",
   "metadata": {},
   "outputs": [
    {
     "name": "stdin",
     "output_type": "stream",
     "text": [
      "Enter the key: 7\n"
     ]
    },
    {
     "name": "stdout",
     "output_type": "stream",
     "text": [
      "The given key value is not present.\n"
     ]
    }
   ],
   "source": [
    "#Key error\n",
    "try:\n",
    "    d={\"name\": \"ashifa\", \"age\":18}\n",
    "    e=input(\"Enter the key:\")\n",
    "    print(d[e])\n",
    "except KeyError:\n",
    "    print(\"The given key value is not present.\")"
   ]
  },
  {
   "cell_type": "code",
   "execution_count": null,
   "id": "0f5396fd-300b-476d-9f87-9c62089c579c",
   "metadata": {},
   "outputs": [],
   "source": []
  }
 ],
 "metadata": {
  "kernelspec": {
   "display_name": "Python 3 (ipykernel)",
   "language": "python",
   "name": "python3"
  },
  "language_info": {
   "codemirror_mode": {
    "name": "ipython",
    "version": 3
   },
   "file_extension": ".py",
   "mimetype": "text/x-python",
   "name": "python",
   "nbconvert_exporter": "python",
   "pygments_lexer": "ipython3",
   "version": "3.13.7"
  }
 },
 "nbformat": 4,
 "nbformat_minor": 5
}
