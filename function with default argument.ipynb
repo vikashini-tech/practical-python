{
 "cells": [
  {
   "cell_type": "code",
   "execution_count": 1,
   "id": "75f2b9d0-8d0a-4b25-b697-ed7a6a4dfc8d",
   "metadata": {},
   "outputs": [
    {
     "name": "stdout",
     "output_type": "stream",
     "text": [
      "7\n",
      "3\n",
      "10\n",
      "2.5\n",
      "1\n",
      "Unknown operation\n",
      "None\n"
     ]
    }
   ],
   "source": [
    "#Arithmetic operations with default arguments\n",
    "def calculate(a,b,operation=\"add\"):\n",
    "    if operation==\"add\":\n",
    "        return a+b\n",
    "    elif operation==\"sub\":\n",
    "        return a-b\n",
    "    elif operation==\"mul\":\n",
    "        return a*b\n",
    "    elif operation==\"div\":\n",
    "        return a/b\n",
    "    elif operation==\"mod\":\n",
    "        return a%b\n",
    "    else:\n",
    "        print(\"Unknown operation\")\n",
    "print(calculate(5,2))\n",
    "print(calculate(5,2,\"sub\"))\n",
    "print(calculate(5,2,\"mul\"))\n",
    "print(calculate(5,2,\"div\"))\n",
    "print(calculate(5,2,\"mod\"))\n",
    "print(calculate(5,2,\"dis\"))"
   ]
  },
  {
   "cell_type": "code",
   "execution_count": 2,
   "id": "82b5222b-587b-40eb-b3ff-2dec1d90c76d",
   "metadata": {},
   "outputs": [
    {
     "name": "stdout",
     "output_type": "stream",
     "text": [
      "Total default quantity and tax: 210.0\n",
      "Total custom quantity and default tax: 630.0\n",
      "Total all values provided: 1308.0\n"
     ]
    }
   ],
   "source": [
    "#Calculate the total price with default tax\n",
    "def totalprice(price,quantity=1,tax_rate=0.05):\n",
    "    total=price*quantity\n",
    "    tax=total*tax_rate\n",
    "    return total+tax\n",
    "print(\"Total default quantity and tax:\",totalprice(200))\n",
    "print(\"Total custom quantity and default tax:\",totalprice(300,2))\n",
    "print(\"Total all values provided:\",totalprice(400,3,0.09))"
   ]
  },
  {
   "cell_type": "code",
   "execution_count": 3,
   "id": "9900da16-95b8-4ab1-a1a3-680dd8a498ce",
   "metadata": {},
   "outputs": [
    {
     "name": "stdout",
     "output_type": "stream",
     "text": [
      "Salary with default HRA and DA: 39000.0\n",
      "Salary with custom HRA and default DA: 70000.0\n",
      "Salary with custom HRA and DA: 96000.0\n"
     ]
    }
   ],
   "source": [
    "#salary calculator\n",
    "def salary(basic,hra=0.2,da=0.1):\n",
    "    hra_amount=basic*hra #house rent allowance\n",
    "    da_amount=basic*da #Dearness allowance\n",
    "    total_salary=basic+hra_amount+da_amount\n",
    "    return total_salary\n",
    "print(\"Salary with default HRA and DA:\",salary(30000))\n",
    "print(\"Salary with custom HRA and default DA:\",salary(50000,0.3))\n",
    "print(\"Salary with custom HRA and DA:\",salary(60000,0.4,0.2))"
   ]
  },
  {
   "cell_type": "code",
   "execution_count": 5,
   "id": "ff96a47e-a69a-40d8-8d57-e38b4e660c93",
   "metadata": {},
   "outputs": [
    {
     "name": "stdout",
     "output_type": "stream",
     "text": [
      "vikas Your limit is not exceeded\n"
     ]
    }
   ],
   "source": [
    "#Internet data usage tracker\n",
    "def datausage(name,data_used,limit=2):\n",
    "    if data_used>limit:\n",
    "        print(name,\"Your limit is exceeded\")\n",
    "    else:\n",
    "        print(name,\"Your limit is not exceeded\")\n",
    "datausage(\"vikas\",2.5,3)"
   ]
  },
  {
   "cell_type": "code",
   "execution_count": null,
   "id": "de486ebe-b144-4105-8ea3-6c0073ead8e8",
   "metadata": {},
   "outputs": [],
   "source": []
  }
 ],
 "metadata": {
  "kernelspec": {
   "display_name": "Python 3 (ipykernel)",
   "language": "python",
   "name": "python3"
  },
  "language_info": {
   "codemirror_mode": {
    "name": "ipython",
    "version": 3
   },
   "file_extension": ".py",
   "mimetype": "text/x-python",
   "name": "python",
   "nbconvert_exporter": "python",
   "pygments_lexer": "ipython3",
   "version": "3.13.7"
  }
 },
 "nbformat": 4,
 "nbformat_minor": 5
}
