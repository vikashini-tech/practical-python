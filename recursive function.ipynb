{
 "cells": [
  {
   "cell_type": "code",
   "execution_count": 1,
   "id": "40a7a1ff-0faf-4083-bb0a-dd6ff16d427d",
   "metadata": {},
   "outputs": [
    {
     "name": "stdin",
     "output_type": "stream",
     "text": [
      "Enter a number: 78\n"
     ]
    },
    {
     "name": "stdout",
     "output_type": "stream",
     "text": [
      "The factorial of 78 is 11324281178206297831457521158732046228731749579488251990048962825668835325234200766245086213177344000000000000000000\n"
     ]
    }
   ],
   "source": [
    "#Factorial of a number\n",
    "def factorial(n):\n",
    "    if n==0 or n==1:\n",
    "        return 1\n",
    "    else:\n",
    "        return n*factorial(n-1)\n",
    "num=int(input(\"Enter a number:\"))\n",
    "if  num<0:\n",
    "    print(\"Factorial does not exist for negative numbers\")\n",
    "else:\n",
    "    print(f\"The factorial of {num} is {factorial(num)}\")"
   ]
  },
  {
   "cell_type": "code",
   "execution_count": 3,
   "id": "82535cbb-9963-46cf-95f4-761d6041622a",
   "metadata": {},
   "outputs": [
    {
     "name": "stdin",
     "output_type": "stream",
     "text": [
      "Enter a position (n) in fibonacci series: 5\n"
     ]
    },
    {
     "name": "stdout",
     "output_type": "stream",
     "text": [
      "The 5th Fibonacci number is 5\n"
     ]
    }
   ],
   "source": [
    "#Fibonacci Series(nth term)\n",
    "def fibonacci(n):\n",
    "    if n<=1:\n",
    "        return n\n",
    "    else:\n",
    "        return fibonacci(n-1)+fibonacci(n-2)\n",
    "num=int(input(\"Enter a position (n) in fibonacci series:\"))\n",
    "if num<0:\n",
    "    print(\"Fibonacci number does not exist for negative index\")\n",
    "else:\n",
    "    print(f\"The {num}th Fibonacci number is {fibonacci(num)}\")"
   ]
  },
  {
   "cell_type": "code",
   "execution_count": 4,
   "id": "7d1bfeb2-1d07-47c0-bfe8-66e36e04c0cb",
   "metadata": {},
   "outputs": [
    {
     "name": "stdin",
     "output_type": "stream",
     "text": [
      "Enter a string: 55\n"
     ]
    },
    {
     "name": "stdout",
     "output_type": "stream",
     "text": [
      "The string is a palindrome\n"
     ]
    }
   ],
   "source": [
    "#Check if a string is a palindrome or not\n",
    "def is_palindrome(s):\n",
    "    if len(s)<=1:\n",
    "        return True\n",
    "    elif s[0]!=s[-1]:\n",
    "        return False\n",
    "    else:\n",
    "        return is_palindrome(s[1:-1])\n",
    "text=input(\"Enter a string:\")\n",
    "if is_palindrome(text):\n",
    "    print(\"The string is a palindrome\")\n",
    "else:\n",
    "    print(\"The string is not a palindrome\")"
   ]
  },
  {
   "cell_type": "code",
   "execution_count": null,
   "id": "42e2c6bc-fc33-4e09-8bc3-f555060f59c4",
   "metadata": {},
   "outputs": [],
   "source": []
  }
 ],
 "metadata": {
  "kernelspec": {
   "display_name": "Python 3 (ipykernel)",
   "language": "python",
   "name": "python3"
  },
  "language_info": {
   "codemirror_mode": {
    "name": "ipython",
    "version": 3
   },
   "file_extension": ".py",
   "mimetype": "text/x-python",
   "name": "python",
   "nbconvert_exporter": "python",
   "pygments_lexer": "ipython3",
   "version": "3.13.7"
  }
 },
 "nbformat": 4,
 "nbformat_minor": 5
}
